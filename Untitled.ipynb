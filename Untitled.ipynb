{
 "cells": [
  {
   "cell_type": "code",
   "execution_count": 1,
   "metadata": {},
   "outputs": [],
   "source": [
    "import requests\n",
    "from bs4 import BeautifulSoup"
   ]
  },
  {
   "cell_type": "code",
   "execution_count": 2,
   "metadata": {},
   "outputs": [],
   "source": [
    "response = requests.get('https://www.policiamilitar.mg.gov.br/portal-pm/externo/principal.action')"
   ]
  },
  {
   "cell_type": "code",
   "execution_count": 3,
   "metadata": {},
   "outputs": [
    {
     "data": {
      "text/plain": [
       "200"
      ]
     },
     "execution_count": 3,
     "metadata": {},
     "output_type": "execute_result"
    }
   ],
   "source": [
    "response.status_code"
   ]
  },
  {
   "cell_type": "code",
   "execution_count": 4,
   "metadata": {},
   "outputs": [
    {
     "data": {
      "text/plain": [
       "u'\\r\\n\\r\\n\\r\\n\\r\\n\\r\\n\\r\\n<!DOCTYPE html>\\r\\n<html lang=\"pt-br\">\\r\\n<head>\\r\\n<title>Pol\\xedcia Militar de Minas Gerais - PMMG</title>\\r\\n<meta charset=\"ISO-8859-1\" />\\r\\n<meta name=\"viewport\" content=\"width=device-width, initial-scale=1\" />\\r\\n<meta name=\"keywords\" content=\"Pol\\xedcia Militar de Minas Gerais, seguran\\xe7a, col\\xe9gio tiradentes, cursos e concursos,licita\\xe7\\xf5es, juventude e pol\\xedcia, drogas\" />\\r\\n<meta name=\"description\" content=\"Pol\\xedcia Militar de Minas Gerais - PMMG\" />\\r\\n<meta property=\"og:site_name\" content=\"Pol\\xedcia Militar de Minas Gerais\" />\\r\\n<meta property=\"og:type\" content=\"article\" />\\r\\n<link rel=\"shortcut icon\" type=\"image/ico\" href=\"https://www.policiamilitar.mg.gov.br/portal-pm/favicon.ico\" />\\r\\n<link href=\"/static/portal/css/estilo.css\" rel=\"stylesheet\" type=\"text/css\" />\\r\\n  \\r\\n\\r\\n\\r\\n\\r\\n\\r\\n<!--[if lt IE 9]>\\r\\n<script>\\r\\ndocument.createElement(\\'header\\');\\r\\ndocument.createElement(\\'nav\\');\\r\\ndocument.createElement(\\'section\\');\\r\\ndocument.createElement(\\'article\\');\\r\\ndocument.createElement(\\'aside\\');\\r\\ndocument.createElement(\\'footer\\');\\r\\ndocument.createElement(\\'figure\\');\\r\\ndocument.createElement(\\'figcaption\\');\\r\\n</script>\\r\\n<![endif]-->\\r\\n</head>\\r\\n\\r\\n\\r\\n\\r\\n<body \">\\r\\n\\r\\n<!--  <div id=\"v1\"><div><a href=\"#palavra\" class=\"vm\">Palavra</a><a tabindex=\"1\" id=\"mg\" href=\"http://www.mg.gov.br\" onclick=\"this.target=\\'_blank\\'\">&nbsp;</a></div></div> -->\\r\\n\\t\\t\\r\\n\\t\\t<div id=\"f\">\\r\\n\\t\\t\\t<div id=\"g\">\\r\\n\\t\\t\\t\\t<header>\\r\\n\\r\\n\\t<div class=\"social\">\\t\\t\\r\\n\\t\\t<a href=\"https://www.instagram.com/pmmg.oficial/\" class=\"instagram\" title=\"Instagram\" target=\"blank\"></a>\\r\\n        <a href=\"https://www.facebook.com/policiamilitardeminasgerais\" class=\"facebook\" title=\"Facebook\" target=\"blank\"></a> \\r\\n        <a href=\"https://www.youtube.com/channel/UC0OlPPr2qs8cM9HyFAAYgTg\" class=\"youtube\" title=\"YouTube\" target=\"blank\"></a>       \\r\\n        <a href=\"https://twitter.com/@pmmg190\" class=\"twitter\" title=\"Twitter\" target=\"blank\"></a>\\r\\n        <a href=\"https://www.flickr.com/photos/96568278@N06/\" class=\"flickr\" title=\"Flickr\" target=\"blank\"></a>       \\r\\n        <!-- Link RSS -->\\r\\n\\t\\t\\t\\r\\n\\t\\t\\t\\t\\t\\t\\r\\n\\t\\t\\t\\t\\t\\t\\r\\n\\t\\t\\t\\t<a href=\"/conteudoportal/sites/Portal%20PM/rss.xml\" class=\"rss\" title=\"Not\\xedcias em RSS\"></a>\\t\\t\\t\\t\\r\\n\\t\\t\\t\\t\\t\\r\\n\\t\\t\\r\\n    </div>\\r\\n\\t<script src=\\'https://www.google.com/recaptcha/api.js?render=6Ldoe8caAAAAAIGWKPOLs6omg2CMUsrQvqHlnRpq\\'></script>\\r\\n\\t<h1><a tabindex=\"2\" href=\"/portal-pm/principal.action\" id=\"l\" accesskey=\"1\">Pol\\xedcia Militar de Minas Gerais</a></h1>\\r\\n\\r\\n<form id=\"buscaHeader\" onsubmit=\"return false;\" action=\"/portal-pm/busca.action\" method=\"post\">\\r\\n<tr style=\"display:none;\">\\n  <td colspan=\"2\">\\n<input type=\"hidden\" name=\"form.map.siteNav\" value=\"externo\" id=\"siteNav\"/>  </td>\\n</tr>\\n\\r\\n\\t<ul>\\r\\n\\t    <li><a tabindex=\"3\" href=\"/portal-pm/externo/principal.action\">Geral</a></li>\\r\\n\\t    <li><a tabindex=\"5\" href=\"/portal-pm/noticiaspoliciais/principal.action\" accesskey=\"6\">Not\\xedcias Policiais</a></li>\\t\\t\\r\\n\\t    <li><a tabindex=\"6\" href=\"/portal-pm/externo/conteudo.action?conteudo=7133&tipoConteudo=subP\" accesskey=\"7\">Servi\\xe7os</a></li>\\r\\n\\t    <li><a tabindex=\"7\" href=\"/portal-pm/externo/conteudo.action?conteudo=7157&tipoConteudo=subP\" accesskey=\"8\">Sobre a PM</a></li>\\r\\n\\t    <li><a href=\"/portal-pm/portalservicos/conteudo.action?conteudo=2141&tipoConteudo=itemMenu\">Fique Seguro</a></li>\\r\\n\\t    <li><a href=\"/portal-pm/unidade.action\">Unidades</a></li>\\t\\t\\r\\n\\t\\t<li><a title=\"Fonte menor\" href=\"javascript:setActiveStyleSheet(\\'a-\\');\" class=\"f-p\" accesskey=\"3\">-</a></li>\\r\\n\\t\\t<li><a title=\"Fonte normal\" href=\"javascript:setActiveStyleSheet(\\'\\');\" class=\"f-m\" accesskey=\"5\">A</a></li>\\r\\n\\t\\t<li><a title=\"Fonte maior\" href=\"javascript:setActiveStyleSheet(\\'a+\\');\" class=\"f-g\" accesskey=\"2\">+</a></li>\\r\\n\\t\\t<li><a title=\"Alto contraste\" href=\"javascript:setActiveStyleSheet(\\'c0\\');\" class=\"f-c\" accesskey=\"4\">Contraste</a></li>\\r\\n\\t\\t<li class=\"pesquisa\">\\r\\n\\t\\t<input tabindex=\"9\" type=\"text\" size=\"5\" name=\"form.map.palavra\" id=\"palavra\" onkeydown=\"if (event.keyCode == 13) pesquisa()\" accesskey=\"9\" title=\"Buscar\" /> \\r\\n\\t\\t<button onclick=\"pesquisa()\" tabindex=\"9\" >Buscar</button>\\r\\n\\t\\t</li>\\r\\n\\t</ul>\\r\\n\\t\\r\\n</form>\\r\\n</header>\\r\\n\\t\\t\\t\\t\\r\\n\\t\\t\\t\\t<main class=\"\">\\t\\t\\t\\t\\r\\n\\t\\t\\t\\t\\t\\r\\n\\t\\t\\t\\t  \\r\\n\\t\\t\\t\\t\\t\\r\\n\\t\\t\\t\\t\\t<div id=\"n\">\\r\\n\\t\\t\\t\\t\\t\\t<a href=\"/portal-pm/principal.action\">P\\xe1gina inicial</a>\\t\\t\\t\\t\\t\\r\\n\\t\\t\\t\\t\\t\\t\\t\\t\\t\\t\\t\\r\\n\\t\\t\\t\\t\\t\\t\\r\\n\\t\\t\\t\\t\\t</div>\\t\\t\\t\\t\\r\\n\\t\\r\\n\\t\\t\\t\\t\\t<div id=\"c\"> \\r\\n\\t\\t\\t\\t\\t<!-- <nav tabindex=\"1\">\\t\\r\\n\\t\\t\\t\\t\\t\\t\\t<div id=\"c1\"><dl><dt>Menu</dt><dd><a href=\"/portal-pm/conteudo.action?conteudo=2156&amp;tipoConteudo=itemMenu\">Identidade Organizacional</a></dd></dl><dl><dt>Servi\\xe7os</dt><dd><a href=\"/portal-pm/salaimprensa.action\" >Sala de Imprensa</a></dd><dd><a href=\"http://sistema.intranetpm.mg.gov.br/dae/fin_dae_cad_net.asp\" onclick=\"this.target=\\'_blank\\'\" >DAE</a></dd><dd><a href=\"/portal-pm/conteudo.action?conteudo=1151&amp;tipoConteudo=itemMenu\">Dicas PM On Line</a></dd><dd><a href=\"https://www.policiamilitar.mg.gov.br/portal-pm/licitacao.action\" onclick=\"this.target=\\'_blank\\'\" >Compras e Licita\\xe7\\xf5es</a></dd><dd><a href=\"https://delegaciavirtual.sids.mg.gov.br/\" onclick=\"this.target=\\'_blank\\'\" >Fa\\xe7a seu Boletim de Ocorr\\xeancia</a></dd><dd><a href=\"http://www.sistemas2pm.mg.gov.br/consignacoes/index.htm\" onclick=\"this.target=\\'_blank\\'\" >Consigna\\xe7\\xf5es</a></dd><dd><a href=\"https://policiamilitar.mg.gov.br/portal-pm/boletim.action\" onclick=\"this.target=\\'_blank\\'\" >Imprima seu Boletim de Ocorr\\xeancia</a></dd><dd><a href=\"/portal-pm/conteudo.action?conteudo=6593&amp;tipoConteudo=itemMenu\">Certid\\xe3o de Tempo de Contribui\\xe7\\xe3o</a></dd></dl><dl><dt>Institucional</dt><dd><a href=\"https://www.policiamilitar.mg.gov.br/portal-pm/crs/principal.action\" onclick=\"this.target=\\'_blank\\'\" >Cursos e Concursos</a></dd><dd><a href=\"/portal-pm/conteudo.action?conteudo=2206&amp;tipoConteudo=itemMenu\">Hor\\xe1rio de Atendimento</a></dd><dd><a href=\"/portal-pm/conteudo.action?conteudo=2205&amp;tipoConteudo=itemMenu\">Portf\\xf3lio de Servi\\xe7os</a></dd><dd><a href=\"/portal-pm/conteudo.action?conteudo=1150&amp;tipoConteudo=itemMenu\">Integra\\xe7\\xe3o institucional</a></dd><dd><a href=\"/portal-pm/https://www.policiamilitar.mg.gov.br/portal-pm/portalservicos/www.policiamilitar.mg.gov.br/portal-pm/portalservicos/conteudo.action?conteudo=2232&tipoConteudo=itemMenu\" >Academia Mineira de Letras</a></dd><dd><a href=\"https://www.policiamilitar.mg.gov.br/portal-pm/apm/principal.action\" onclick=\"this.target=\\'_blank\\'\" >Educa\\xe7\\xe3o Policial</a></dd><dd><a href=\"/portal-pm/conteudo.action?conteudo=7154&amp;tipoConteudo=subP\" >Identidade Organizacional</a></dd></dl><dl><dt>Transpar\\xeancia</dt><dd><a href=\"/portal-pm/conteudo.action?conteudo=6413&amp;tipoConteudo=itemMenu\">Lei de Acesso \\xe0 Informa\\xe7\\xe3o</a></dd></dl></div>\\t\\t\\t\\t\\t\\t\\t\\t\\r\\n\\t\\t\\t\\t\\t\\t</nav> -->\\t\\t\\t\\t\\t\\r\\n\\t\\t\\t\\t\\t\\t\\r\\n\\r\\n\\r\\n\\r\\n<script type=\"text/javascript\" src=\"/portal-pm/dwr/engine.js\"></script>\\r\\n<script type=\"text/javascript\" src=\"/portal-pm/dwr/util.js\"></script>\\r\\n<script type=\"text/javascript\" src=\"/portal-pm/dwr/interface/tipoMensagem.js\"></script>\\r\\n<script type=\"text/javascript\">\\r\\n\\r\\nfunction recaptcha() {\\t\\r\\n\\tgrecaptcha.ready(function() {\\r\\n        grecaptcha.execute(\\'6Ldoe8caAAAAAIGWKPOLs6omg2CMUsrQvqHlnRpq\\', {action: \\'principal\\'}).then(function(token) {\\t\\t\\t\\r\\n\\t\\t\\ttipoMensagem.verify(token,{callback:function(){\\r\\n\\t\\t\\t},errorHandler:function(errorString, exception) {}\\r\\n\\t\\t\\t  ,timeout:50000\\r\\n\\t\\t\\t  ,async:false\\t\\t\\r\\n\\t\\t\\t});\\t\\r\\n        });\\r\\n      });\\r\\n\\r\\n}\\t\\r\\n\\r\\n\\trecaptcha();\\r\\n\\r\\n\\tfunction setaResposta(obj) {\\r\\n\\t\\tdocument.getElementById(\\'voto\\').value = obj;\\r\\n\\t}\\r\\n\\t\\r\\n\\tfunction votar(site) {\\r\\n\\t\\tvar idResposta = document.getElementById(\\'voto\\').value;\\r\\n\\t\\tif(idResposta != \\'\\') {\\r\\n\\t\\t\\tvar objForm = document.forms[1];\\r\\n\\t\\t\\tobjForm.elements[\"act\"].value = \"votar\";\\r\\n\\t\\t\\tobjForm.target = \"_self\";\\r\\n\\t\\t\\tobjForm.action = site;\\r\\n\\t\\t\\tobjForm.submit();\\r\\n\\t\\t}else{\\r\\n\\t\\t\\talert(\\'Selecione uma op\\xe7\\xe3o de voto\\');\\r\\n\\t\\t\\treturn false;\\r\\n\\t\\t}\\r\\n\\t}\\r\\n\\t\\r\\n\\r\\n</script>\\r\\n\\r\\n<form id=\"principal\" onsubmit=\"return true;\" action=\"/portal-pm/principal.action\" method=\"post\">\\r\\n\\r\\n\\t\\r\\n<fieldset class=\"vm\"><legend>Campos ocultos</legend>\\r\\n<tr style=\"display:none;\">\\n  <td colspan=\"2\">\\n<input type=\"hidden\" name=\"state\" value=\"form\" id=\"state\"/>  </td>\\n</tr>\\n\\r\\n<tr style=\"display:none;\">\\n  <td colspan=\"2\">\\n<input type=\"hidden\" name=\"act\" value=\"load\" id=\"act\"/>  </td>\\n</tr>\\n\\r\\n<tr style=\"display:none;\">\\n  <td colspan=\"2\">\\n<input type=\"hidden\" name=\"entityId\" value=\"\" id=\"entityId\"/>  </td>\\n</tr>\\n\\r\\n<tr style=\"display:none;\">\\n  <td colspan=\"2\">\\n<input type=\"hidden\" name=\"i\" value=\"\" id=\"i\"/>  </td>\\n</tr>\\n\\n<tr style=\"display:none;\">\\n  <td colspan=\"2\">\\n<input type=\"hidden\" name=\"allLines\" value=\"\" id=\"allLines\"/>  </td>\\n</tr>\\n\\r\\n</fieldset>\\n\\r\\n\\t\\r\\n\\r\\n\\r\\n\\r\\n\\r\\n\\r\\n\\t<fieldset class=\"vm\">\\r\\n\\t    <legend>Campos ocultos</legend>\\r\\n\\t    <tr style=\"display:none;\">\\n  <td colspan=\"2\">\\n<input type=\"hidden\" name=\"form.map.numeroPagina\" value=\"\" id=\"numeroPagina\"/>  </td>\\n</tr>\\n\\r\\n\\t</fieldset>\\r\\n\\r\\n\\r\\n\\t\\r\\n\\t<!-- Area da manchete principal -->\\r\\n\\t\\r\\n\\t\\t\\t\\t\\t\\t\\r\\n\\t\\t\\t\\t\\t\\r\\n\\t\\t\\t\\t\\t\\t\\t\\t\\r\\n\\t\\t\\t\\t\\t<div id=\"s\"><ul><li><a href=\"javascript:redirecionaMenu(\\'/externo/conteudo.action?conteudo=24988&amp;tipoConteudo=manchete\\');\" title=\"246 PMMG\"><img  src=\"/conteudoportal/sites/externo/manchete/01062021131901814.jpg\" alt=\"246 PMMG\" width=\"964\" height=\"241\"/></a></li><li><a href=\"javascript:redirecionaMenu(\\'/externo/conteudo.action?conteudo=24770&amp;tipoConteudo=manchete\\');\" title=\"Nos estamos por voc\\xeas assim como voc\\xeas est\\xe3o por n\\xf3s.\"><img  src=\"/conteudoportal/sites/externo/manchete/03052021120726688jpeg\" alt=\"Nos estamos por voc\\xeas assim como voc\\xeas est\\xe3o por n\\xf3s.\" width=\"964\" height=\"241\"/></a></li><li><a href=\"https://www.secult.mg.gov.br/noticias-artigos/6731-espacos-culturais-e-eventos-em-minas-gerais-ja-podem-solicitar-o-selo-evento-seguro\" onclick=\"this.target=\\'_blank\\'\" title=\"Selo Evento Seguro\"><img  src=\"/conteudoportal/sites/externo/manchete/24052021152611830.jpg\" alt=\"Selo Evento Seguro\" width=\"964\" height=\"241\"/></a></li><li><a href=\"javascript:redirecionaMenu(\\'/externo/conteudo.action?conteudo=7924&amp;tipoConteudo=subP\\');\" title=\"Mem\\xf3ria e Patrim\\xf4nio Hist\\xf3rico e cultural da PMMG\"><img  src=\"/conteudoportal/sites/externo/manchete/11022021092104227.jpg\" alt=\"Mem\\xf3ria e Patrim\\xf4nio Hist\\xf3rico e cultural da PMMG\" width=\"964\" height=\"241\" /></a></li><li><a href=\"https://www.youtube.com/c/PMMGoficial\" onclick=\"this.target=\\'_blank\\'\" title=\"TV PMMG\"><img  src=\"/conteudoportal/sites/externo/manchete/18022021142313972.jpg\" alt=\"TV PMMG\" width=\"964\" height=\"241\"/></a></li><li><a href=\"https://www.policiamilitar.mg.gov.br/portal-pm/noticiaspoliciais/principal.action\" onclick=\"this.target=\\'_blank\\'\" title=\"Noticias Policiais\"><img  src=\"/conteudoportal/sites/externo/manchete/18022021102424854.jpg\" alt=\"Noticias Policiais\" width=\"964\" height=\"241\"/></a></li></ul><div class=\"pa\" id=\"p\"><a href=\"javascript:sl(1)\" class=\"\">1</a><a href=\"javascript:sl(2)\" class=\"\">2</a><a href=\"javascript:sl(3)\" class=\"\">3</a><a href=\"javascript:sl(4)\" class=\"\">4</a><a href=\"javascript:sl(5)\" class=\"\">5</a><a href=\"javascript:sl(6)\" class=\"\">6</a></div></div>\\t\\t\\t\\t\\t\\r\\n\\t\\t\\t\\t\\r\\n\\t\\t\\t\\t\\r\\n\\t\\t\\t\\t\\t\\t\\t\\r\\n\\t\\t\\t\\t\\t\\t\\r\\n\\t\\t\\r\\n\\t\\r\\n\\r\\n\\r\\n\\r\\n\\t<!-- DIV de Destaques -->\\r\\n\\t\\r\\n\\t\\t<aside class=\"banner\">\\r\\n\\t\\t    \\r\\n\\t\\t        \\r\\n\\t\\t            \\r\\n\\t\\t                <a href=\"https://www.policiamilitar.mg.gov.br/portal-pm/crs/crs/principal.action\" onclick=\"this.target=\\'_blank\\'\" ><img alt=\"Concursos\" width=\"220\" src=\"/conteudoportal/sites/externo/destaque/26022021100405965.jpg\" /></a><a href=\"/portal-pm/externo/conteudo.action?conteudo=7924&amp;tipoConteudo=subP\" ><img alt=\"Memoria Patrim\\xf4nio\" width=\"220\" src=\"/conteudoportal/sites/externo/destaque/10052021113819301.jpg\" /></a><a href=\"https://www.youtube.com/playlist?list=PLcOO4wyG6JNJSZsXGBZh0Q7iubJMKgPtD \" onclick=\"this.target=\\'_blank\\'\" ><img alt=\"Podcasts\" width=\"220\" src=\"/conteudoportal/sites/externo/destaque/26022021100508932.jpg\" /></a><a href=\"https://policiamilitar.mg.gov.br/portal-pm/boletim.action\" onclick=\"this.target=\\'_blank\\'\" ><img alt=\"Imprima seu BO\" width=\"220\" src=\"/conteudoportal/sites/externo/destaque/26022021100622248.jpg\" /></a><a href=\"https://delegaciavirtual.sids.mg.gov.br/sxgn/\" onclick=\"this.target=\\'_blank\\'\" ><img alt=\"Registre seu BO\" width=\"220\" src=\"/conteudoportal/sites/externo/destaque/26022021100635210.jpg\" /></a><a href=\"https://www.policiamilitar.mg.gov.br/portal-pm/faleconosco.action\" onclick=\"this.target=\\'_blank\\'\" ><img alt=\"Fale Conosco\" width=\"220\" src=\"/conteudoportal/sites/externo/destaque/26022021100650879.jpg\" /></a><a href=\"https://www.policiamilitar.mg.gov.br/portal-pm/musicapmmg/conteudo.action?conteudo=9511&tipoConteudo=subP\" onclick=\"this.target=\\'_blank\\'\" ><img alt=\"Agenda Musical\" width=\"220\" src=\"/conteudoportal/sites/externo/destaque/18032021092650449.jpg\" /></a><a href=\"/portal-pm/externo/conteudo.action?conteudo=21336&amp;tipoConteudo=destaque\"><img alt=\"Lei de acesso a informa\\xe7\\xe3o\" width=\"220\" src=\"/conteudoportal/sites/externo/destaque/26022021100327920.jpg\" /></a><a href=\"https://www.sistemaspm.mg.gov.br/smat_ccheque/informePJA\" onclick=\"this.target=\\'_blank\\'\" ><img alt=\"Sistema PJA\" width=\"220\" src=\"/conteudoportal/sites/externo/destaque/26022021155249333.jpg\" /></a><a href=\"https://www.google.com/maps/d/viewer?mid=13ai_UdCTodiL8441ZvfrnkM20SI&hl=pt&ll=-18.604601406184326%2C-45.48339844999998&z=6\" onclick=\"this.target=\\'_blank\\'\" ><img alt=\"Col\\xe9gio Tiradentes\" width=\"220\" src=\"/conteudoportal/sites/externo/destaque/18032021084140655.jpg\" /></a>\\r\\n\\t\\t            \\r\\n\\t\\t            \\r\\n\\t\\t        \\r\\n\\t\\t    \\r\\n\\t\\t    \\r\\n\\t\\t</aside>\\r\\n\\t\\t\\r\\n\\t\\t\\t\\r\\n\\t\\t\\r\\n\\t\\t\\t<div id=\"c2\"><div id=\"no\"><div class=\"grup-col\"><section class=\"col-2\"><h2>Institucionais</h2><article><figure><video controls src=\"/conteudoportal/midia/video/0806202109475888_Institucional_246_anos.mp4\"><a href=\"/conteudoportal/midia/video/0806202109475888_Institucional_246_anos.mp4\">Download do v\\xeddeo</a></video></figure><h3><a href=\"/portal-pm/externo/conteudo.action?conteudo=229072&amp;tipoConteudo=noticia\">PMMG: 246 anos v\\xeddeo Institucional                                                                                                                                                                     </a></h3></article><article><figure><video controls src=\"/conteudoportal/midia/video/08032021113659922_Dia_das_Mulheres_-_Homenagem_da_PMMG_a_todas_as_mulheres.mp4\"><a href=\"/conteudoportal/midia/video/08032021113659922_Dia_das_Mulheres_-_Homenagem_da_PMMG_a_todas_as_mulheres.mp4\">Download do v\\xeddeo</a></video></figure><h3><a href=\"/portal-pm/externo/conteudo.action?conteudo=222904&amp;tipoConteudo=noticia\">Homenagem da PMMG \\xe0s MULHERES                                                                                                                                                                          </a></h3><p>Mulher comum dadivosa!!\\r\\nM\\xe3e e esposa, com prazer, \\r\\nMestra de amor primorosa, Cidad\\xe3 de bem querer,\\r\\nTamb\\xe9m \\xe9 brava e briosa na labuta do exercer\\r\\nA For\\xe7a justa e ditosa, sem jamais se esmorecer...\\r\\n\\r\\n                                           Jo\\xe3o Bosco de Castro</p></article><article><figure><video controls src=\"/conteudoportal/midia/video/27082020142423455_Musica_da_Patrulha_Rural_-_PMMG.mp4\"><a href=\"/conteudoportal/midia/video/27082020142423455_Musica_da_Patrulha_Rural_-_PMMG.mp4\">Download do v\\xeddeo</a></video></figure><h3><a href=\"/portal-pm/externo/conteudo.action?conteudo=212595&amp;tipoConteudo=noticia\">M\\xfasica da Patrulha Rural                                                                                                                                                                               </a></h3><p>Uma homenagem da PMMG ao homem do Campo e aos militares da Patrulha Rural.</p></article><article><figure><video controls src=\"/conteudoportal/midia/video/07052021135016921_DIA_DAS_MAES_-_Obrigado_mamae!_ww2.mp4\"><a href=\"/conteudoportal/midia/video/07052021135016921_DIA_DAS_MAES_-_Obrigado_mamae!_ww2.mp4\">Download do v\\xeddeo</a></video></figure><h3><a href=\"/portal-pm/externo/conteudo.action?conteudo=227026&amp;tipoConteudo=noticia\">Obrigado mam\\xe3e!                                                                                                                                                                                        </a></h3><p>Homenagem da PMMG a todas as m\\xe3es. Uma produ\\xe7\\xe3o do CJP/DCO.</p></article></section><section class=\"col-2\"><h2>Jornalismo Policial Militar</h2><article><figure><video controls src=\"/conteudoportal/midia/video/09062021130334561_Zema.mp4\"><a href=\"/conteudoportal/midia/video/09062021130334561_Zema.mp4\">Download do v\\xeddeo</a></video></figure><h3><a href=\"/portal-pm/externo/conteudo.action?conteudo=229209&amp;tipoConteudo=noticia\">Governador parabeniza a PMMG pelos 246 anos.</a></h3></article><article><figure><video controls src=\"/conteudoportal/midia/video/14052021102057171_WhatsApp_Video_2021-05-14_at_10.02.05.mp4\"><a href=\"/conteudoportal/midia/video/14052021102057171_WhatsApp_Video_2021-05-14_at_10.02.05.mp4\">Download do v\\xeddeo</a></video></figure><h3><a href=\"/portal-pm/externo/conteudo.action?conteudo=227498&amp;tipoConteudo=noticia\">Opera\\xe7\\xe3o Campo Seguro                                                                                                                                                                                 </a></h3><p>Palavras do nosso governador Romeu Zema sobre a Opera\\xe7\\xe3o Campo Seguro</p></article><article><figure><video controls src=\"/conteudoportal/midia/video/18022021164335846_WhatsApp_Video_2021-02-18_at_15.30.37_(1).mp4\"><a href=\"/conteudoportal/midia/video/18022021164335846_WhatsApp_Video_2021-02-18_at_15.30.37_(1).mp4\">Download do v\\xeddeo</a></video></figure><h3><a href=\"/portal-pm/externo/conteudo.action?conteudo=222018&amp;tipoConteudo=noticia\">Tropa da PMMG apoia Coromandel                                                                                                                                                                          </a></h3><p>Policiais Militares especialistas de sa\\xfade est\\xe3o sendo empenhados no munic\\xedpio de Coromandel na for\\xe7a tarefa do Estado para dar suporte \\xe0 cidade que passa por momentos cr\\xedticos devido \\xe0 pandemia da COVID19.</p></article><article><figure><video controls src=\"/conteudoportal/midia/video/30042021165639118_29042021175727472_WhatsApp_Video_2021-04-29_at_17.09.06.mp4\"><a href=\"/conteudoportal/midia/video/30042021165639118_29042021175727472_WhatsApp_Video_2021-04-29_at_17.09.06.mp4\">Download do v\\xeddeo</a></video></figure><h3><a href=\"/portal-pm/externo/conteudo.action?conteudo=226587&amp;tipoConteudo=noticia\">Combate aos crimes ambientais                                                                                                                                                                           </a></h3><p>Combate aos crimes ambientais</p></article><article><figure><video controls src=\"/conteudoportal/midia/video/23032021133755423_WhatsApp_Video_2021-03-23_at_13.28.14.mp4\"><a href=\"/conteudoportal/midia/video/23032021133755423_WhatsApp_Video_2021-03-23_at_13.28.14.mp4\">Download do v\\xeddeo</a></video></figure><h3><a href=\"/portal-pm/externo/conteudo.action?conteudo=222481&amp;tipoConteudo=noticia\">Opera\\xe7\\xe3o Caminhos de Minas                                                                                                                                                                            </a></h3></article><div class=\"pa az\">Para mais not\\xedcias use a pesquisa </div><div class=\"pa\">  </div></section></div></div></div>\\t\\t\\t\\r\\n\\t\\t\\r\\n\\t\\t\\t\\t\\r\\n\\t\\r\\n\\t<div class=\"vm\"><input type=\"submit\" value=\"not\\xedcias\" id=\"notForm\" class=\"vm\" /></div>\\r\\n</form>\\t\\t\\t\\t\\t\\r\\n\\t\\t\\t\\t\\t</div>\\t\\t\\t\\t\\t\\t\\r\\n\\t\\t\\t\\t</main>\\t\\t\\t\\t\\t\\t\\r\\n\\t\\t\\t</div>\\r\\n\\t\\t</div>\\r\\n\\t\\t\\r\\n\\r\\n\\r\\n\\r\\n<footer>\\r\\n\\t<dl>\\r\\n\\t\\t<dt>POL\\xcdCIA MILITAR DE MINAS GERAIS</dt>\\r\\n\\t\\t<dd><span class=\"direitos\">\\r\\n\\t\\t\\t\\tTodos os direitos reservados<br /> \\r\\n\\t\\t\\t\\t\\r\\n\\t\\t\\t\\t\\t\\r\\n\\t\\t\\t\\t\\t\\t<a href=\"/portal-pm/externo/aspectosLegaisResponsabilidades.action\">Aspectos Legais e Responsabilidades</a>\\r\\n\\t\\t\\t\\t\\t\\t<br />\\r\\n\\t\\t\\t\\t\\t\\t<a href=\"/portal-pm/externo/mapasite.action\">Mapa do Site</a>\\r\\n\\t\\t\\t\\t\\t\\r\\n\\t\\t\\t\\t\\t\\r\\n\\t\\t\\t\\t\\r\\n\\t\\t\\t</span>Rodovia Prefeito Am\\xe9rico Gianetti, S/N, Pr\\xe9dio Minas 6\\xba Andar, Belo Horizonte - MG.\\r\\n\\t\\t\\t<br />\\r\\n\\t\\t\\tTelefones: \\r\\n\\t\\t\\t<br />\\t\\t\\r\\n\\t\\t\\tDiretoria de Comunica\\xe7\\xe3o Organizacional - (31) 3071-2540.\\r\\n\\t\\t\\t<br />\\t\\t\\r\\n\\t\\t\\tCentro de Jornalismo Policial - (31) 3071-2608 / 2607.\\r\\n\\t\\t\\t<br />\\t\\t\\r\\n\\t\\t\\tCentro de Recrutamento e Sele\\xe7\\xe3o - (31) 2123-9503.\\r\\n\\t\\t\\t<br />\\t\\t\\t\\r\\n\\t\\t\\tEm caso de emerg\\xeancia policial, disque 190. \\r\\n\\t\\t</dd>\\r\\n\\t</dl>\\r\\n</footer>\\r\\n\\t\\t\\r\\n\\t\\t<script type=\"text/javascript\" src=\"/static/portal/js/portal.js\" charset=\"UTF-8\"></script>\\r\\n \\t\\t\\t \\r\\n\\t</body>\\r\\n</html>'"
      ]
     },
     "execution_count": 4,
     "metadata": {},
     "output_type": "execute_result"
    }
   ],
   "source": [
    "response.text"
   ]
  },
  {
   "cell_type": "code",
   "execution_count": 5,
   "metadata": {},
   "outputs": [],
   "source": [
    "soup = BeautifulSoup(response.text,'html.parser')"
   ]
  },
  {
   "cell_type": "code",
   "execution_count": 6,
   "metadata": {},
   "outputs": [
    {
     "data": {
      "text/plain": [
       "<title>Pol\\xedcia Militar de Minas Gerais - PMMG</title>"
      ]
     },
     "execution_count": 6,
     "metadata": {},
     "output_type": "execute_result"
    }
   ],
   "source": [
    "soup.find('title')"
   ]
  },
  {
   "cell_type": "code",
   "execution_count": 7,
   "metadata": {},
   "outputs": [],
   "source": [
    "titulo_videos = soup.find_all('h3')"
   ]
  },
  {
   "cell_type": "code",
   "execution_count": 8,
   "metadata": {},
   "outputs": [
    {
     "name": "stdout",
     "output_type": "stream",
     "text": [
      "<h3><a href=\"/portal-pm/externo/conteudo.action?conteudo=229072&amp;tipoConteudo=noticia\">PMMG: 246 anos vídeo Institucional                                                                                                                                                                     </a></h3>\n",
      "<h3><a href=\"/portal-pm/externo/conteudo.action?conteudo=222904&amp;tipoConteudo=noticia\">Homenagem da PMMG às MULHERES                                                                                                                                                                          </a></h3>\n",
      "<h3><a href=\"/portal-pm/externo/conteudo.action?conteudo=212595&amp;tipoConteudo=noticia\">Música da Patrulha Rural                                                                                                                                                                               </a></h3>\n",
      "<h3><a href=\"/portal-pm/externo/conteudo.action?conteudo=227026&amp;tipoConteudo=noticia\">Obrigado mamãe!                                                                                                                                                                                        </a></h3>\n",
      "<h3><a href=\"/portal-pm/externo/conteudo.action?conteudo=229209&amp;tipoConteudo=noticia\">Governador parabeniza a PMMG pelos 246 anos.</a></h3>\n",
      "<h3><a href=\"/portal-pm/externo/conteudo.action?conteudo=227498&amp;tipoConteudo=noticia\">Operação Campo Seguro                                                                                                                                                                                 </a></h3>\n",
      "<h3><a href=\"/portal-pm/externo/conteudo.action?conteudo=222018&amp;tipoConteudo=noticia\">Tropa da PMMG apoia Coromandel                                                                                                                                                                          </a></h3>\n",
      "<h3><a href=\"/portal-pm/externo/conteudo.action?conteudo=226587&amp;tipoConteudo=noticia\">Combate aos crimes ambientais                                                                                                                                                                           </a></h3>\n",
      "<h3><a href=\"/portal-pm/externo/conteudo.action?conteudo=222481&amp;tipoConteudo=noticia\">Operação Caminhos de Minas                                                                                                                                                                            </a></h3>\n"
     ]
    }
   ],
   "source": [
    "for t in titulo_videos:\n",
    "    print(t)"
   ]
  },
  {
   "cell_type": "code",
   "execution_count": null,
   "metadata": {},
   "outputs": [],
   "source": []
  }
 ],
 "metadata": {
  "kernelspec": {
   "display_name": "Python 2",
   "language": "python",
   "name": "python2"
  },
  "language_info": {
   "codemirror_mode": {
    "name": "ipython",
    "version": 2
   },
   "file_extension": ".py",
   "mimetype": "text/x-python",
   "name": "python",
   "nbconvert_exporter": "python",
   "pygments_lexer": "ipython2",
   "version": "2.7.16"
  }
 },
 "nbformat": 4,
 "nbformat_minor": 2
}
